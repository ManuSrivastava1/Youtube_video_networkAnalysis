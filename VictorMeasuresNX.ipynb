{
 "cells": [
  {
   "cell_type": "code",
   "execution_count": 12,
   "id": "58ed697e-dcb2-4915-a0f9-cb2fb784362c",
   "metadata": {},
   "outputs": [],
   "source": [
    "import networkx as nx\n",
    "import pandas as pd\n",
    "import matplotlib.pyplot as plt\n",
    "#import numpy as np"
   ]
  },
  {
   "cell_type": "code",
   "execution_count": 110,
   "id": "6ac04d4c-a6e1-407f-8fe6-2b65fec09500",
   "metadata": {},
   "outputs": [
    {
     "name": "stdout",
     "output_type": "stream",
     "text": [
      "DiGraph with 5000 nodes and 24966 edges\n"
     ]
    }
   ],
   "source": [
    "graphml_file = 'NetworkImage.graphml'\n",
    "graph = nx.read_graphml(graphml_file)\n",
    "print(graph)"
   ]
  },
  {
   "cell_type": "code",
   "execution_count": 75,
   "id": "88d2d33b-6082-4088-8e33-beb3f5965677",
   "metadata": {},
   "outputs": [
    {
     "name": "stdout",
     "output_type": "stream",
     "text": [
      "Graph with 2251 nodes and 3610 edges\n"
     ]
    }
   ],
   "source": [
    "# Specify the desired attribute value(s)\n",
    "Entertainment_category = 'Entertainment'\n",
    "NewsPolitics_category = 'News & Politics'\n",
    "\n",
    "# Create an empty subgraph\n",
    "subgraph = nx.Graph()\n",
    "\n",
    "# Iterate over nodes in the original graph\n",
    "for node, data in graph.nodes(data=True):\n",
    "    # Check the 'category' attribute value\n",
    "    category = data.get('Category', None)\n",
    "    if category == Entertainment_category and NewsPolitics_category:\n",
    "        # Add the node and its edges to the subgraph\n",
    "        subgraph.add_node(node, **data)\n",
    "        subgraph.add_edges_from(graph.edges(node))\n",
    "\n",
    "# Now, 'subgraph' contains the filtered nodes and their edges based on the 'category' attribute\n",
    "\n",
    "print(subgraph)"
   ]
  },
  {
   "cell_type": "code",
   "execution_count": 111,
   "id": "94ffbd33-4d48-4abe-a0ff-7415d02acbd1",
   "metadata": {},
   "outputs": [
    {
     "name": "stdout",
     "output_type": "stream",
     "text": [
      "{'jDVPJ_7dS3k': 0.015615875394610804, 'oGhl8ySfKHY': 0.015404514023823873, 'xO3pzL9klmE': 0.01517495655993944, 'ktbd8yPBxkU': 0.012628206575167174, 'xcNdvMgDf5M': 0.012580019254826259, 'rqw4lWcVe5g': 0.012571845103263667, 'vUu0u4BohXw': 0.012571845103263667, 'gBE-nt2Pm28': 0.012571845103263667, '0DQ4ga8ZUlk': 0.01255492878072713, 'Rrcfs2BuIhk': 0.01255492878072713}\n"
     ]
    }
   ],
   "source": [
    "import networkx as nx\n",
    "\n",
    "def top_closeness_centrality(graph):\n",
    "    # Compute the closeness centrality\n",
    "    closeness = nx.closeness_centrality(graph)\n",
    "\n",
    "    # Sort the nodes based on closeness centrality values in descending order\n",
    "    sorted_nodes = sorted(closeness, key=closeness.get, reverse=True)\n",
    "\n",
    "    # Select the top 10 nodes with the highest closeness centrality\n",
    "    top_nodes = sorted_nodes[:10]\n",
    "\n",
    "    # Create a dictionary with the top nodes and their closeness centrality values\n",
    "    top_closeness = {node: closeness[node] for node in top_nodes}\n",
    "\n",
    "    return top_closeness\n",
    "\n",
    "# Assuming 'graph' is your NetworkX graph object\n",
    "\n",
    "# Call the function and print the top closeness centrality nodes\n",
    "top_closeness = top_closeness_centrality(graph)\n",
    "print(top_closeness)"
   ]
  },
  {
   "cell_type": "code",
   "execution_count": 107,
   "id": "56e47050-c1ea-4b07-9932-71220b7dc400",
   "metadata": {},
   "outputs": [
    {
     "name": "stdout",
     "output_type": "stream",
     "text": [
      "Node: jDVPJ_7dS3k, Category: Entertainment\n",
      "Node: oGhl8ySfKHY, Category: Entertainment\n",
      "Node: xO3pzL9klmE, Category: Entertainment\n",
      "Node: ktbd8yPBxkU, Category: Music\n",
      "Node: xcNdvMgDf5M, Category: Music\n",
      "Node: rqw4lWcVe5g, Category: Music\n",
      "Node: vUu0u4BohXw, Category: Music\n",
      "Node: gBE-nt2Pm28, Category: Entertainment\n",
      "Node: 0DQ4ga8ZUlk, Category: Music\n",
      "Node: Rrcfs2BuIhk, Category: Music\n"
     ]
    }
   ],
   "source": [
    "def top_closeness_centrality_with_category(graph):\n",
    "    # Compute the closeness centrality\n",
    "    closeness = nx.closeness_centrality(graph)\n",
    "\n",
    "    # Sort the nodes based on closeness centrality values in descending order\n",
    "    sorted_nodes = sorted(closeness, key=closeness.get, reverse=True)\n",
    "\n",
    "    # Select the top 10 nodes with the highest closeness centrality\n",
    "    top_nodes = sorted_nodes[:10]\n",
    "\n",
    "    # Create a dictionary to store the category attribute for each top node\n",
    "    top_nodes_category = {}\n",
    "\n",
    "    # Retrieve the category attribute for each top node\n",
    "    for node in top_nodes:\n",
    "        category = graph.nodes[node].get('Category')\n",
    "        top_nodes_category[node] = category\n",
    "\n",
    "    return top_nodes_category\n",
    "\n",
    "# Assuming 'graph' is your NetworkX graph object\n",
    "\n",
    "# Call the function and print the top closeness centrality nodes with their categories\n",
    "top_nodes_category = top_closeness_centrality_with_category(graph)\n",
    "for node, category in top_nodes_category.items():\n",
    "    print(f\"Node: {node}, Category: {category}\")"
   ]
  },
  {
   "cell_type": "code",
   "execution_count": 112,
   "id": "328d6ac8-3535-4d52-8866-5cb89f35b999",
   "metadata": {},
   "outputs": [
    {
     "name": "stdout",
     "output_type": "stream",
     "text": [
      "Node: xO3pzL9klmE, Category: Entertainment\n",
      "Node: QRvBh-1X4_c, Category: People & Blogs\n",
      "Node: xLUnggZqjEw, Category: Comedy\n",
      "Node: zHDyHFvU9jI, Category: Entertainment\n",
      "Node: m-L8--SFAB4, Category: Entertainment\n",
      "Node: 3KyjZOxoE4Q, Category: Gadgets & Games\n",
      "Node: 4Y3wOmBV4c0, Category: Music\n",
      "Node: dA5bf5jG2co, Category: Gadgets & Games\n",
      "Node: YkmLupV5vRk, Category: Music\n",
      "Node: jDVPJ_7dS3k, Category: Entertainment\n"
     ]
    }
   ],
   "source": [
    "def top_betweenness_centrality_with_category(graph):\n",
    "    # Compute the betweenness centrality\n",
    "    betweenness = nx.betweenness_centrality(graph)\n",
    "\n",
    "    # Sort the nodes based on betweenness centrality values in descending order\n",
    "    sorted_nodes = sorted(betweenness, key=betweenness.get, reverse=True)\n",
    "\n",
    "    # Select the top 10 nodes with the highest betweenness centrality\n",
    "    top_nodes = sorted_nodes[:10]\n",
    "\n",
    "    # Create a dictionary to store the category attribute for each top node\n",
    "    top_nodes_category = {}\n",
    "\n",
    "    # Retrieve the category attribute for each top node\n",
    "    for node in top_nodes:\n",
    "        category = graph.nodes[node].get('Category')\n",
    "        top_nodes_category[node] = category\n",
    "\n",
    "    return top_nodes_category\n",
    "\n",
    "# Assuming 'graph' is your NetworkX graph object\n",
    "\n",
    "# Call the function and print the top betweenness centrality nodes with their categories\n",
    "top_nodes_category = top_betweenness_centrality_with_category(graph)\n",
    "for node, category in top_nodes_category.items():\n",
    "    print(f\"Node: {node}, Category: {category}\")"
   ]
  },
  {
   "cell_type": "code",
   "execution_count": null,
   "id": "167495c5-4b6a-4261-8210-1abbd5fecf29",
   "metadata": {},
   "outputs": [],
   "source": []
  }
 ],
 "metadata": {
  "kernelspec": {
   "display_name": "Python 3 (ipykernel)",
   "language": "python",
   "name": "python3"
  },
  "language_info": {
   "codemirror_mode": {
    "name": "ipython",
    "version": 3
   },
   "file_extension": ".py",
   "mimetype": "text/x-python",
   "name": "python",
   "nbconvert_exporter": "python",
   "pygments_lexer": "ipython3",
   "version": "3.10.4"
  }
 },
 "nbformat": 4,
 "nbformat_minor": 5
}
