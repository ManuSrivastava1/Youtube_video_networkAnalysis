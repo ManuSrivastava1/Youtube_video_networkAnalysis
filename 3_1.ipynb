{
 "cells": [
  {
   "cell_type": "markdown",
   "id": "d73815da-4ce3-4084-9903-be5dd8b4fdf5",
   "metadata": {},
   "source": [
    "# Network creation & Analysis"
   ]
  },
  {
   "cell_type": "markdown",
   "id": "c4d1a90f-48b7-4d24-83d1-53b408168128",
   "metadata": {
    "jp-MarkdownHeadingCollapsed": true,
    "tags": []
   },
   "source": [
    "### <span style=\"color:teal\">Creating nodes and edges for the network</span>"
   ]
  },
  {
   "cell_type": "markdown",
   "id": "ee38b551-529d-40b8-8538-9bf18f5973a9",
   "metadata": {},
   "source": [
    "From the csv files created in the previous notebook(check 02.ipynb), we will be creating a node list and edge list <br>to use as input for creating a netowork representation using netowrkX."
   ]
  },
  {
   "cell_type": "code",
   "execution_count": 1,
   "id": "5b680275-ef36-4baa-9734-df9c116adbe7",
   "metadata": {},
   "outputs": [],
   "source": [
    "import networkx as nx\n",
    "import numpy as np\n",
    "import pandas as pd\n",
    "from tqdm import tqdm\n",
    "import matplotlib.pyplot as plt"
   ]
  },
  {
   "cell_type": "markdown",
   "id": "bf7e5c66-33ae-46d7-8091-55bea805abbc",
   "metadata": {
    "jp-MarkdownHeadingCollapsed": true,
    "tags": []
   },
   "source": [
    "### <span style=\"color:teal\">Helper Functions</span>"
   ]
  },
  {
   "cell_type": "code",
   "execution_count": 4,
   "id": "e1d9fb22-299e-4839-a630-6947e0d9aef3",
   "metadata": {},
   "outputs": [],
   "source": [
    "def remove_nan_empty_rows(dataframe):\n",
    "    dataframe.replace('', np.nan, inplace=True)\n",
    "    dataframe.dropna(inplace=True)\n",
    "    dataframe.dropna(how='all', inplace=True)\n",
    "    dataframe.dropna(subset=dataframe.columns.values.tolist(), how='all', inplace=True)\n",
    "    dataframe.dropna(subset=dataframe.columns.values.tolist(), how='any', inplace=True)\n",
    "    dataframe.replace(np.nan, '', inplace=True)\n",
    "    \n",
    "    return dataframe\n",
    "\n",
    "#removing self-loops from the edge list dataframe\n",
    "def remove_selfloop(df, column1, column2):\n",
    "    # Drop rows where the values in column1 and column2 are equal\n",
    "    df = df[df[column1] != df[column2]]\n",
    "\n",
    "    # Reset the index of the dataframe\n",
    "    df = df.reset_index(drop=True)\n",
    "\n",
    "    return df\n",
    "\n",
    "#adding nodes from node_list\n",
    "def add_nodes_from_dataframe(df):\n",
    "    # Create an empty graph\n",
    "    G = nx.DiGraph()\n",
    "\n",
    "    # Iterate over the rows of the DataFrame\n",
    "    for index, row in df.iterrows():\n",
    "        # Extract the node name from the row\n",
    "        node_name = row['video ID']   #this could be the vide ID in our case\n",
    "\n",
    "        # Extract the attributes from the row (excluding the 'Node' column)\n",
    "        attributes = row.drop('video ID').to_dict()   \n",
    "\n",
    "        # Add the node with its attributes to the graph\n",
    "        G.add_node(node_name, **attributes)\n",
    "\n",
    "    return G\n",
    "\n",
    "#adding edges from edge_list\n",
    "def edges_from_df(df,graph):\n",
    "    \n",
    "    g_nodes = set(graph.nodes())\n",
    "\n",
    "    set2 = set(list(graph.nodes))\n",
    "    for idx,row in tqdm(df.iterrows()):\n",
    "        source = row[0]\n",
    "        target = row[1]\n",
    "        #print(source,target) this works just fine\n",
    "        set1 = {source,target}\n",
    "        is_proper_subset = set1.issubset(set2) and set1 != set2\n",
    "        if is_proper_subset:\n",
    "            graph.add_edges_from([(source,target)])\n",
    "        else:\n",
    "            continue\n",
    "    return graph\n",
    "\n",
    "# writing a function for graph creation\n",
    "def create_Digraph(df_nlist,df_elist):\n",
    "    #step 1 - declare the graph variable\n",
    "    G = nx.DiGraph()\n",
    "    \n",
    "    #step 2 - add nodes from the nlist\n",
    "    G = add_nodes_from_dataframe(df_nlist)\n",
    "    \n",
    "    #step 3 - check for orpahn nodes\n",
    "    G = edges_from_df(df_elist,G)\n",
    "    \n",
    "    #step 4 - remove all orpahn nodes\n",
    "    orphan_nodes = [node for node in G.nodes() if G.in_degree(node) == 0 and G.out_degree(node) == 0]\n",
    "    print(len(orphan_nodes),' orphan nodes removed')\n",
    "    \n",
    "    return G\n",
    "\n",
    "# function to export .gexf file for gephi\n",
    "def export(graph_var,name):\n",
    "    if '.gexf.gz' in name: \n",
    "        nx.write_gexf(graph_var,name)\n",
    "    else:\n",
    "        print('enter a name with file type as `.gexf.gz`')"
   ]
  },
  {
   "cell_type": "markdown",
   "id": "1de73227-5c7a-49de-bea8-facaf815dc69",
   "metadata": {
    "jp-MarkdownHeadingCollapsed": true,
    "tags": []
   },
   "source": [
    "### <span style=\"color:teal\">Data Import and Preparation</span>"
   ]
  },
  {
   "cell_type": "markdown",
   "id": "d0732600-bbaa-424e-918c-9c6b5efbcd9e",
   "metadata": {},
   "source": [
    "Now we importe the network data from the CSVs we created earlier."
   ]
  },
  {
   "cell_type": "code",
   "execution_count": 9,
   "id": "dc8c7025-b351-4c67-bc88-91bd20f4b0a9",
   "metadata": {},
   "outputs": [],
   "source": [
    "# Importing the edge lists\n",
    "\n",
    "eList1 = pd.read_csv(\"eList1.csv\",delimiter=',',low_memory=False)\n",
    "eList2 = pd.read_csv(\"eList2.csv\",delimiter=',',low_memory=False)"
   ]
  },
  {
   "cell_type": "code",
   "execution_count": 10,
   "id": "01f80f53-dd1f-4f66-b344-0ee2f08c5fb4",
   "metadata": {},
   "outputs": [
    {
     "data": {
      "text/plain": [
       "1541415"
      ]
     },
     "execution_count": 10,
     "metadata": {},
     "output_type": "execute_result"
    }
   ],
   "source": [
    "len(eList1)  # length after import -> 15,41,415"
   ]
  },
  {
   "cell_type": "code",
   "execution_count": 13,
   "id": "bc4a9100-c418-473e-81e2-d082f6e5080d",
   "metadata": {},
   "outputs": [],
   "source": [
    "# now we process the edge list dataframes so that they are ready to used for the graph creator function\n",
    "\n",
    "# removing nan/ NaN and other such values\n",
    "eList1 = remove_nan_empty_rows(eList1)\n",
    "# removing self-loops \n",
    "eList1 = remove_selfloop(eList1, '0', '1')\n",
    "# removing duplicates\n",
    "eList1.drop_duplicates(inplace=True)"
   ]
  },
  {
   "cell_type": "code",
   "execution_count": 14,
   "id": "0fcd4305-f4ec-42ab-9f4d-0375bc08d987",
   "metadata": {},
   "outputs": [
    {
     "data": {
      "text/plain": [
       "1470158"
      ]
     },
     "execution_count": 14,
     "metadata": {},
     "output_type": "execute_result"
    }
   ],
   "source": [
    "len(eList1) # length after cleaning -> 14,70,158"
   ]
  },
  {
   "cell_type": "code",
   "execution_count": 15,
   "id": "2fd8c948-4803-41a5-b628-2cf309cb84af",
   "metadata": {},
   "outputs": [
    {
     "data": {
      "text/plain": [
       "2190420"
      ]
     },
     "execution_count": 15,
     "metadata": {},
     "output_type": "execute_result"
    }
   ],
   "source": [
    "# lets do the same cleaning for the second edge list from 2008\n",
    "len(eList2) # length after import -> 21,90,420"
   ]
  },
  {
   "cell_type": "code",
   "execution_count": 16,
   "id": "acf2bf5f-33a2-414c-b8e5-4169675cb0cf",
   "metadata": {},
   "outputs": [],
   "source": [
    "# removing nan/ NaN and other such values\n",
    "eList2 = remove_nan_empty_rows(eList2)\n",
    "# removing self-loops \n",
    "eList2 = remove_selfloop(eList2, '0', '1')\n",
    "# removing duplicates\n",
    "eList2.drop_duplicates(inplace=True)"
   ]
  },
  {
   "cell_type": "code",
   "execution_count": 17,
   "id": "206903d7-20be-4500-b659-77dfb9e1452c",
   "metadata": {},
   "outputs": [
    {
     "data": {
      "text/plain": [
       "1533099"
      ]
     },
     "execution_count": 17,
     "metadata": {},
     "output_type": "execute_result"
    }
   ],
   "source": [
    "len(eList2) # length after cleaning -> 15,33,099"
   ]
  },
  {
   "cell_type": "markdown",
   "id": "74be3469-3eee-41ab-94c0-3f3d200d3710",
   "metadata": {},
   "source": [
    "Certain decisions were made after much trail and error with the data, the following steps are a result of those trails.\n",
    "\n",
    "For example, we will be choosing only half the the edges from the edge lists to keep the network graph managable for computation at later stages. The choice of selecting which nodes to keep and which to drop is completly aribitrary as the dataframe is not sorted in any sense except maybe time they were crawled through by the web scrapper.\n",
    "\n",
    "Similar approach is taken for the node list."
   ]
  },
  {
   "cell_type": "code",
   "execution_count": 38,
   "id": "366e4314-d021-4b35-97a7-40adda090086",
   "metadata": {},
   "outputs": [],
   "source": [
    "# Select half of the dataframe for 2007 edge list\n",
    "sub7 = eList1.head(int(len(eList1)/2))\n",
    "sub8 = eList2.head(int(len(eList2)/2))"
   ]
  },
  {
   "cell_type": "code",
   "execution_count": 21,
   "id": "925c99ba-fcb3-441d-8b06-32e92610bc7a",
   "metadata": {},
   "outputs": [],
   "source": [
    "# Importing the node lists with the attribute data\n",
    "NL7 = pd.read_csv(\"S_data07.csv\",delimiter=',',low_memory=False)\n",
    "NL8 = pd.read_csv(\"S_data08.csv\",delimiter=',',low_memory=False)"
   ]
  },
  {
   "cell_type": "code",
   "execution_count": 22,
   "id": "adb2e5f1-01ab-49a6-8594-e95f3f7f4b34",
   "metadata": {},
   "outputs": [
    {
     "data": {
      "text/plain": [
       "384474"
      ]
     },
     "execution_count": 22,
     "metadata": {},
     "output_type": "execute_result"
    }
   ],
   "source": [
    "len(NL7) # length after import -> 3,84,474"
   ]
  },
  {
   "cell_type": "code",
   "execution_count": 40,
   "id": "8f2c0ffa-bda6-4eb1-ba67-aae52bd544cb",
   "metadata": {},
   "outputs": [
    {
     "data": {
      "text/plain": [
       "190206"
      ]
     },
     "execution_count": 40,
     "metadata": {},
     "output_type": "execute_result"
    }
   ],
   "source": [
    "# cleaning the node list\n",
    "NL7 = remove_nan_empty_rows(NL7)\n",
    "# selecting half the node list\n",
    "NL7_1 = NL7.head(int(len(NL7)/2))\n",
    "NL7_2 = NL7.tail(int(len(NL7)/2))\n",
    "len(NL7_1) # 1,90,206\n",
    "len(NL7_2) # 1,90,206"
   ]
  },
  {
   "cell_type": "code",
   "execution_count": 24,
   "id": "81047b78-1dd9-4978-ad3a-0ad37eab3314",
   "metadata": {},
   "outputs": [
    {
     "data": {
      "text/plain": [
       "497246"
      ]
     },
     "execution_count": 24,
     "metadata": {},
     "output_type": "execute_result"
    }
   ],
   "source": [
    "len(NL8) # length after import -> 4,97,246"
   ]
  },
  {
   "cell_type": "code",
   "execution_count": 42,
   "id": "259bc5bf-fcd7-4958-8a83-1d3f5d18a04a",
   "metadata": {},
   "outputs": [
    {
     "data": {
      "text/plain": [
       "248350"
      ]
     },
     "execution_count": 42,
     "metadata": {},
     "output_type": "execute_result"
    }
   ],
   "source": [
    "# cleaning the node list\n",
    "NL8 = remove_nan_empty_rows(NL8)\n",
    "# selecting half the node list\n",
    "NL8_1 = NL8.head(int(len(NL8)/2))\n",
    "NL8_2 = NL8.tail(int(len(NL8)/2))\n",
    "len(NL8_1) # 2,48,350\n",
    "len(NL8_2) # 2,48,350"
   ]
  },
  {
   "cell_type": "markdown",
   "id": "d0e7dd42-99a7-4828-a5f2-94e18d08de9f",
   "metadata": {
    "tags": []
   },
   "source": [
    "## Making the graph "
   ]
  },
  {
   "cell_type": "markdown",
   "id": "e1a4cf20-4a5d-4114-870e-846d6f5b0369",
   "metadata": {},
   "source": [
    "Making the graph for the april 2007 now, we will be storing it in the variable called `g1`"
   ]
  },
  {
   "cell_type": "code",
   "execution_count": 43,
   "id": "51128c63-98a0-4b7c-b4a6-f9140e684044",
   "metadata": {},
   "outputs": [
    {
     "name": "stderr",
     "output_type": "stream",
     "text": [
      "1470158it [00:32, 45828.75it/s]\n"
     ]
    }
   ],
   "source": [
    "g1 = nx.DiGraph()\n",
    "g1 = add_nodes_from_dataframe(NL7_1)\n",
    "g1 = edges_from_df(eList1,g1)"
   ]
  },
  {
   "cell_type": "code",
   "execution_count": 44,
   "id": "852442ba-5cf7-422e-a729-9defed2e25cf",
   "metadata": {},
   "outputs": [
    {
     "name": "stdout",
     "output_type": "stream",
     "text": [
      "Number of nodes: 190206\n",
      "Number of edges: 190877\n"
     ]
    }
   ],
   "source": [
    "# check the node and edge count\n",
    "print(\"Number of nodes:\", g1.number_of_nodes())  # 1,90,206\n",
    "print(\"Number of edges:\", g1.number_of_edges())  # 1,90,877"
   ]
  },
  {
   "cell_type": "code",
   "execution_count": 45,
   "id": "fb06e166-49ba-48fe-a582-a5f6d92e2783",
   "metadata": {},
   "outputs": [
    {
     "name": "stdout",
     "output_type": "stream",
     "text": [
      "81963\n"
     ]
    }
   ],
   "source": [
    "# now we remove the orphan nodes from this graph\n",
    "# 1 - Find orphan nodes\n",
    "orphan_nodes = [node for node in g1.nodes() if g1.in_degree(node) == 0 and g1.out_degree(node) == 0]\n",
    "print(len(orphan_nodes))\n",
    "# 2 - remove orphan nodes\n",
    "g1.remove_nodes_from(orphan_nodes)"
   ]
  },
  {
   "cell_type": "code",
   "execution_count": 46,
   "id": "d3661d20-61ff-4b88-93de-83b3b5ecfea2",
   "metadata": {},
   "outputs": [
    {
     "name": "stdout",
     "output_type": "stream",
     "text": [
      "Number of nodes: 108243\n",
      "Number of edges: 190877\n"
     ]
    }
   ],
   "source": [
    "# check the node and edge count\n",
    "print(\"Number of nodes:\", g1.number_of_nodes())  # 1,08,243\n",
    "print(\"Number of edges:\", g1.number_of_edges())  # 1,90,877"
   ]
  },
  {
   "cell_type": "markdown",
   "id": "2307de7e-9cd7-4056-aea2-c8a57db947cc",
   "metadata": {},
   "source": [
    "<hr>\n",
    "Making the graph for the april 2008 now, we will be storing it in the variable called `g2`"
   ]
  },
  {
   "cell_type": "code",
   "execution_count": 47,
   "id": "120cd92d-eb60-4a59-a3bb-9981b45f94e0",
   "metadata": {},
   "outputs": [
    {
     "name": "stderr",
     "output_type": "stream",
     "text": [
      "1533099it [00:35, 43692.19it/s]\n"
     ]
    }
   ],
   "source": [
    "g2 = nx.DiGraph()\n",
    "g2 = add_nodes_from_dataframe(NL8_1)\n",
    "g2 = edges_from_df(eList2,g2)"
   ]
  },
  {
   "cell_type": "code",
   "execution_count": 48,
   "id": "a167c30f-d5df-4e9c-ae32-3d3d5873266f",
   "metadata": {},
   "outputs": [
    {
     "name": "stdout",
     "output_type": "stream",
     "text": [
      "Number of nodes: 248350\n",
      "Number of edges: 266613\n"
     ]
    }
   ],
   "source": [
    "# check the node and edge count\n",
    "print(\"Number of nodes:\", g2.number_of_nodes())  # 2,48,350\n",
    "print(\"Number of edges:\", g2.number_of_edges())  # 2,66,613"
   ]
  },
  {
   "cell_type": "code",
   "execution_count": 49,
   "id": "9973472c-7e03-46d1-9ed4-d2d51bc922be",
   "metadata": {},
   "outputs": [
    {
     "name": "stdout",
     "output_type": "stream",
     "text": [
      "102861\n"
     ]
    }
   ],
   "source": [
    "# now we remove the orphan nodes from this graph\n",
    "# 1 - Find orphan nodes\n",
    "orphan_nodes = [node for node in g2.nodes() if g2.in_degree(node) == 0 and g2.out_degree(node) == 0]\n",
    "print(len(orphan_nodes))\n",
    "# 2 - remove orphan nodes\n",
    "g2.remove_nodes_from(orphan_nodes)"
   ]
  },
  {
   "cell_type": "code",
   "execution_count": 51,
   "id": "b44392a9-a9f9-49f6-b0c6-c2afb3dfa698",
   "metadata": {},
   "outputs": [
    {
     "name": "stdout",
     "output_type": "stream",
     "text": [
      "Number of nodes: 145489\n",
      "Number of edges: 266613\n"
     ]
    }
   ],
   "source": [
    "# check the node and edge count\n",
    "print(\"Number of nodes:\", g2.number_of_nodes())  # 1,45,489\n",
    "print(\"Number of edges:\", g2.number_of_edges())  # 2,66,613"
   ]
  },
  {
   "cell_type": "markdown",
   "id": "48d7a136-063d-4cd8-a221-7b1ded5c57bc",
   "metadata": {
    "tags": []
   },
   "source": [
    "### <span style=\"color:teal\">Doing some basic analysis of the network's structure</span>"
   ]
  },
  {
   "cell_type": "markdown",
   "id": "24759e64-8533-4c69-a8a8-f8fe25c5fa2a",
   "metadata": {},
   "source": [
    "We will be conducting some basic measurements to understand the nature of the network before going for specific analysis. First we take the network graph for the year 2007 - that is `g1`."
   ]
  },
  {
   "cell_type": "code",
   "execution_count": 172,
   "id": "3f3747d4-133f-4233-85f6-36742b95a356",
   "metadata": {},
   "outputs": [],
   "source": [
    "def diameter_directed(G):\n",
    "    # Get strongly connected components\n",
    "    components = nx.strongly_connected_components(G)\n",
    "\n",
    "    # Calculate the maximum diameter among components\n",
    "    max_diameter = 0\n",
    "    for component in components:\n",
    "        component_graph = G.subgraph(component)\n",
    "        diameter = nx.diameter(component_graph)\n",
    "        if diameter > max_diameter:\n",
    "            max_diameter = diameter\n",
    "\n",
    "    print(\"Network Diameter:\", max_diameter)"
   ]
  },
  {
   "cell_type": "code",
   "execution_count": 253,
   "id": "d9febda2-bdf0-4045-b8fd-64068db11414",
   "metadata": {},
   "outputs": [
    {
     "name": "stdout",
     "output_type": "stream",
     "text": [
      "Density: 1.629138368411498e-05\n",
      "Network Diameter: 20\n",
      "Reciprocity: 0.2669886890510643\n",
      "Average in-degree: 1.7634119527359737\n",
      "Average out-degree: 1.7634119527359737\n",
      "Assortativity coefficient: 0.30243865280017784\n",
      "Transitivity: 0.47550274445530777\n",
      "Number of strongly connected components: 89797\n",
      "Number of weakly connected components: 13786\n",
      "False\n"
     ]
    }
   ],
   "source": [
    "print(\"Density:\", nx.density(g1))\n",
    "diameter_directed(g1)\n",
    "print(\"Reciprocity:\", nx.reciprocity(g1))\n",
    "print(\"Average in-degree:\", sum(dict(g1.in_degree()).values()) / g1.number_of_nodes())\n",
    "print(\"Average out-degree:\", sum(dict(g1.out_degree()).values()) / g1.number_of_nodes())\n",
    "print(\"Assortativity coefficient:\", nx.degree_assortativity_coefficient(g1))\n",
    "print(\"Transitivity:\", nx.transitivity(g1))\n",
    "print(\"Number of strongly connected components:\", nx.number_strongly_connected_components(g1))  #output - 2,79,984\n",
    "print(\"Number of weakly connected components:\", nx.number_weakly_connected_components(g1)) # output - 23,818\n",
    "print(nx.is_directed_acyclic_graph(g1))"
   ]
  },
  {
   "cell_type": "markdown",
   "id": "88a7b6e5-7431-4f00-9870-e7bb84620ad9",
   "metadata": {},
   "source": [
    "Now we perform the same measurement on the second graph from 2008 and see how much it has changed."
   ]
  },
  {
   "cell_type": "code",
   "execution_count": 254,
   "id": "cdf55fda-5b44-4467-ade1-7a6284b4984f",
   "metadata": {},
   "outputs": [
    {
     "name": "stdout",
     "output_type": "stream",
     "text": [
      "Density: 1.2595748751694415e-05\n",
      "Network Diameter: 43\n",
      "Reciprocity: 0.373642695592488\n",
      "Average in-degree: 1.8325302943865172\n",
      "Average out-degree: 1.8325302943865172\n",
      "Assortativity coefficient: 0.17740002030236565\n",
      "Transitivity: 0.25977746433781446\n",
      "Number of strongly connected components: 101261\n",
      "Number of weakly connected components: 10175\n",
      "False\n"
     ]
    }
   ],
   "source": [
    "print(\"Density:\", nx.density(g2))\n",
    "diameter_directed(g2)  # gephi shows the network diameter as 64 but networkX shows 43\n",
    "print(\"Reciprocity:\", nx.reciprocity(g2))\n",
    "print(\"Average in-degree:\", sum(dict(g2.in_degree()).values()) / g2.number_of_nodes())\n",
    "print(\"Average out-degree:\", sum(dict(g2.out_degree()).values()) / g2.number_of_nodes())\n",
    "print(\"Assortativity coefficient:\", nx.degree_assortativity_coefficient(g2))\n",
    "print(\"Transitivity:\", nx.transitivity(g2))\n",
    "print(\"Number of strongly connected components:\", nx.number_strongly_connected_components(g2))  #output - 2,79,984\n",
    "print(\"Number of weakly connected components:\", nx.number_weakly_connected_components(g2)) # output - 23,818\n",
    "print(nx.is_directed_acyclic_graph(g2))"
   ]
  },
  {
   "cell_type": "markdown",
   "id": "b55c3f2e-5132-4bdf-b8ec-1f95e83368e3",
   "metadata": {
    "tags": []
   },
   "source": [
    "### <span style=\"color:teal\">Showing Power Law in the graph</span>"
   ]
  },
  {
   "cell_type": "markdown",
   "id": "6169b28a-a632-4bb4-9bd8-2132949178e9",
   "metadata": {},
   "source": [
    "We can try to do this WRT to two things, <br>\n",
    "1 - in-degree of the nodes in the graph <br>\n",
    "2 - the local clustering coefficient of the nodes <br>\n",
    "3 - connected components size <br>"
   ]
  },
  {
   "cell_type": "code",
   "execution_count": 122,
   "id": "8f4c8c93-e3f8-4b1d-9247-9f9201d86cbb",
   "metadata": {},
   "outputs": [
    {
     "name": "stderr",
     "output_type": "stream",
     "text": [
      "/var/folders/yq/sryk517930l66t3h_fdc8w040000gn/T/ipykernel_56198/2292542113.py:18: RuntimeWarning: divide by zero encountered in power\n",
      "  y = (x ** (-2)) / (sum(degree_values) ** (-2))\n"
     ]
    },
    {
     "data": {
      "image/png": "[encoded data removed]",
      "text/plain": [
       "<Figure size 640x480 with 1 Axes>"
      ]
     },
     "metadata": {},
     "output_type": "display_data"
    }
   ],
   "source": [
    "# Calculate the in-degree for each node\n",
    "in_degrees = dict(g1.in_degree())\n",
    "\n",
    "# Get the in-degree values and corresponding counts\n",
    "degree_values = list(in_degrees.values())\n",
    "degree_counts = np.bincount(np.array(degree_values, dtype=int))\n",
    "\n",
    "# Plot the in-degree distribution\n",
    "plt.scatter(range(len(degree_counts)), degree_counts)\n",
    "plt.xscale('log')\n",
    "plt.yscale('log')\n",
    "plt.xlabel('In-Degree')\n",
    "plt.ylabel('Number of Nodes')\n",
    "plt.title('In-Degree Distribution')\n",
    "\n",
    "# Plot the power law curve\n",
    "x = np.linspace(min(degree_values), max(degree_values), 100)\n",
    "y = (x ** (-2)) / (sum(degree_values) ** (-2))\n",
    "plt.plot(x, y, color='red', label='Power Law Curve')\n",
    "\n",
    "plt.legend()\n",
    "plt.show()"
   ]
  },
  {
   "cell_type": "code",
   "execution_count": 68,
   "id": "52363cc7-783a-4883-8a94-87b07a4b2b75",
   "metadata": {},
   "outputs": [
    {
     "name": "stderr",
     "output_type": "stream",
     "text": [
      "/var/folders/yq/sryk517930l66t3h_fdc8w040000gn/T/ipykernel_56198/1296064693.py:16: RuntimeWarning: divide by zero encountered in power\n",
      "  y = (x ** (-2)) / (sum(degree_values) ** (-2))\n"
     ]
    },
    {
     "data": {
      "image/png": "[encoded data removed]",
      "text/plain": [
       "<Figure size 640x480 with 1 Axes>"
      ]
     },
     "metadata": {},
     "output_type": "display_data"
    }
   ],
   "source": [
    "# Calculate the in-degree for each node\n",
    "in_degrees = dict(g1.in_degree())\n",
    "\n",
    "# Get the in-degree values and corresponding counts\n",
    "degree_values = list(in_degrees.values())\n",
    "degree_counts = np.bincount(np.array(degree_values, dtype=int))\n",
    "\n",
    "# Plot the in-degree distribution\n",
    "plt.scatter(range(len(degree_counts)), degree_counts)\n",
    "plt.xlabel('In-Degree')\n",
    "plt.ylabel('Number of Nodes')\n",
    "plt.title('In-Degree Distribution')\n",
    "\n",
    "# Plot the power law curve\n",
    "x = np.linspace(min(degree_values), max(degree_values), 100)\n",
    "y = (x ** (-2)) / (sum(degree_values) ** (-2))\n",
    "plt.plot(x,y, color='red', label='Power Law Curve')\n",
    "\n",
    "plt.legend()\n",
    "plt.show()"
   ]
  },
  {
   "cell_type": "code",
   "execution_count": 70,
   "id": "361c9c08-173d-4131-b778-cdbb9a3b61a0",
   "metadata": {},
   "outputs": [
    {
     "name": "stderr",
     "output_type": "stream",
     "text": [
      "/var/folders/yq/sryk517930l66t3h_fdc8w040000gn/T/ipykernel_56198/2252498696.py:17: RuntimeWarning: divide by zero encountered in power\n",
      "  y = (x ** (-2)) / (sum(degree_values) ** (-2))\n"
     ]
    },
    {
     "data": {
      "image/png": "[encoded data removed]",
      "text/plain": [
       "<Figure size 640x480 with 1 Axes>"
      ]
     },
     "metadata": {},
     "output_type": "display_data"
    }
   ],
   "source": [
    "# Calculate the in-degree for each node\n",
    "in_degrees = dict(g1.in_degree())\n",
    "\n",
    "# Get the in-degree values and corresponding counts\n",
    "degree_values = list(in_degrees.values())\n",
    "degree_counts = np.bincount(np.array(degree_values, dtype=int))\n",
    "\n",
    "# Plot the in-degree distribution\n",
    "plt.scatter(range(len(degree_counts)), degree_counts)\n",
    "plt.xlabel('In-Degree')\n",
    "plt.ylabel('Number of Nodes')\n",
    "plt.title('In-Degree Distribution')\n",
    "\n",
    "# Plot the power law curve if the sum of degree_values is not zero\n",
    "if sum(degree_values) != 0:\n",
    "    x = np.linspace(min(degree_values), max(degree_values), 100)\n",
    "    y = (x ** (-2)) / (sum(degree_values) ** (-2))\n",
    "    plt.plot(x, y, color='red', label='Power Law Curve')\n",
    "\n",
    "plt.legend()\n",
    "plt.show()"
   ]
  },
  {
   "cell_type": "code",
   "execution_count": 118,
   "id": "e53eda0a-c101-4d5f-8234-ba4c0db9bc32",
   "metadata": {},
   "outputs": [
    {
     "data": {
      "image/png": "[encoded data removed]",
      "text/plain": [
       "<Figure size 640x480 with 1 Axes>"
      ]
     },
     "metadata": {},
     "output_type": "display_data"
    }
   ],
   "source": [
    "# Calculate the in-degree for each node in the graph\n",
    "in_degrees = dict(g1.in_degree())\n",
    "\n",
    "# Get the in-degree values and corresponding counts\n",
    "degree_values = list(in_degrees.values())\n",
    "degree_counts = np.bincount(np.array(degree_values, dtype=int))\n",
    "\n",
    "# Plot the in-degree distribution\n",
    "plt.scatter(range(len(degree_counts)), degree_counts)\n",
    "plt.xlabel('In-Degree')\n",
    "plt.ylabel('Number of Nodes')\n",
    "plt.title('In-Degree Distribution')\n",
    "\n",
    "plt.show()"
   ]
  },
  {
   "cell_type": "code",
   "execution_count": 123,
   "id": "c5ae6b43-a231-41de-a873-17a1b69cbf0a",
   "metadata": {},
   "outputs": [
    {
     "data": {
      "image/png": "[encoded data removed]",
      "text/plain": [
       "<Figure size 640x480 with 1 Axes>"
      ]
     },
     "metadata": {},
     "output_type": "display_data"
    }
   ],
   "source": [
    "in_degrees = dict(g1.in_degree())\n",
    "degree_values = list(in_degrees.values())\n",
    "degree_counts = np.bincount(np.array(degree_values, dtype=int))\n",
    "\n",
    "plt.scatter(degree_counts, range(len(degree_counts)))  # Flipped axis\n",
    "plt.xlabel('Number of Nodes')\n",
    "plt.ylabel('In-Degree')  # Flipped label\n",
    "plt.title('In-Degree Distribution')\n",
    "\n",
    "plt.show()"
   ]
  },
  {
   "cell_type": "code",
   "execution_count": 86,
   "id": "624afb79-8cb6-4262-8ff9-e27f4df65e44",
   "metadata": {},
   "outputs": [
    {
     "data": {
      "image/png": "[encoded data removed]",
      "text/plain": [
       "<Figure size 640x480 with 1 Axes>"
      ]
     },
     "metadata": {},
     "output_type": "display_data"
    }
   ],
   "source": [
    "# Define the power law curve equation\n",
    "exponent = -2\n",
    "x_min = 100\n",
    "x_max = len(g1.nodes)\n",
    "num_points = len(g1.nodes)\n",
    "\n",
    "x = np.linspace(x_min, x_max, num_points)\n",
    "y = x ** exponent\n",
    "\n",
    "# Plot the power law curve\n",
    "plt.plot(x, y, color='blue', label='Power Law Curve')\n",
    "\n",
    "plt.xlabel('X')\n",
    "plt.ylabel('Y')\n",
    "plt.title('Generic Power Law Curve')\n",
    "plt.legend()\n",
    "plt.show()"
   ]
  },
  {
   "cell_type": "markdown",
   "id": "8c93ef39-b402-4f9b-9292-2ee4bb3e0226",
   "metadata": {
    "tags": []
   },
   "source": [
    "### <span style=\"color:teal\">Calculating the clustering co-efficient of each node, LCC</span>"
   ]
  },
  {
   "cell_type": "code",
   "execution_count": 149,
   "id": "64551366-1a8b-4da0-9aef-42ebbb2d6fd2",
   "metadata": {},
   "outputs": [],
   "source": [
    "#dfdf = pd.DataFrame({'Column1': datatest, 'Column2': datatest2})"
   ]
  },
  {
   "cell_type": "code",
   "execution_count": 162,
   "id": "0ed4c33a-6ef2-4cb8-aa07-cf1cf77e5ed0",
   "metadata": {},
   "outputs": [],
   "source": [
    "# Calculate the local clustering coefficient (LCC)\n",
    "def LCC(G):\n",
    "    local_clustering = nx.clustering(G, nodes=G.nodes())\n",
    "\n",
    "    # Store the local clustering coefficient in a dictionary\n",
    "    clustering_coefficients = {}\n",
    "    for node, clustering_coefficient in local_clustering.items():\n",
    "        clustering_coefficients[node] = clustering_coefficient\n",
    "        \n",
    "    # Transferring the data from dictionary to dataframe\n",
    "    K = []\n",
    "    V = []\n",
    "    for k,v in clusteringValues1.items():\n",
    "        key = k\n",
    "        value = clusteringValues1[k]\n",
    "        K.append(key)\n",
    "        V.append(value)\n",
    "    \n",
    "    df = pd.DataFrame({'node_ID': K, 'LCC': V})\n",
    "\n",
    "    return df"
   ]
  },
  {
   "cell_type": "code",
   "execution_count": 163,
   "id": "215a3cbf-4ccd-4f29-a90f-016875767c6f",
   "metadata": {},
   "outputs": [],
   "source": [
    "LCC_df1 = LCC(g1)"
   ]
  },
  {
   "cell_type": "code",
   "execution_count": 256,
   "id": "c7baa4e8-7faa-4042-819c-273e77554069",
   "metadata": {},
   "outputs": [
    {
     "data": {
      "text/html": [
       "<div>\n",
       "<style scoped>\n",
       "    .dataframe tbody tr th:only-of-type {\n",
       "        vertical-align: middle;\n",
       "    }\n",
       "\n",
       "    .dataframe tbody tr th {\n",
       "        vertical-align: top;\n",
       "    }\n",
       "\n",
       "    .dataframe thead th {\n",
       "        text-align: right;\n",
       "    }\n",
       "</style>\n",
       "<table border=\"1\" class=\"dataframe\">\n",
       "  <thead>\n",
       "    <tr style=\"text-align: right;\">\n",
       "      <th></th>\n",
       "      <th>node_ID</th>\n",
       "      <th>LCC</th>\n",
       "    </tr>\n",
       "  </thead>\n",
       "  <tbody>\n",
       "    <tr>\n",
       "      <th>0</th>\n",
       "      <td>GEn9QkLAbC8</td>\n",
       "      <td>0.000000</td>\n",
       "    </tr>\n",
       "    <tr>\n",
       "      <th>1</th>\n",
       "      <td>ooQ2rVCsecA</td>\n",
       "      <td>0.000000</td>\n",
       "    </tr>\n",
       "    <tr>\n",
       "      <th>2</th>\n",
       "      <td>5k9zhok_iqo</td>\n",
       "      <td>0.000000</td>\n",
       "    </tr>\n",
       "    <tr>\n",
       "      <th>3</th>\n",
       "      <td>Rtr_GCfFzBI</td>\n",
       "      <td>0.000000</td>\n",
       "    </tr>\n",
       "    <tr>\n",
       "      <th>4</th>\n",
       "      <td>jxvetM7uqms</td>\n",
       "      <td>0.000000</td>\n",
       "    </tr>\n",
       "    <tr>\n",
       "      <th>5</th>\n",
       "      <td>Me82R7DKsMU</td>\n",
       "      <td>0.000000</td>\n",
       "    </tr>\n",
       "    <tr>\n",
       "      <th>6</th>\n",
       "      <td>zF6-RBTAs60</td>\n",
       "      <td>0.000000</td>\n",
       "    </tr>\n",
       "    <tr>\n",
       "      <th>7</th>\n",
       "      <td>DAKJagJqKtU</td>\n",
       "      <td>0.166667</td>\n",
       "    </tr>\n",
       "  </tbody>\n",
       "</table>\n",
       "</div>"
      ],
      "text/plain": [
       "       node_ID       LCC\n",
       "0  GEn9QkLAbC8  0.000000\n",
       "1  ooQ2rVCsecA  0.000000\n",
       "2  5k9zhok_iqo  0.000000\n",
       "3  Rtr_GCfFzBI  0.000000\n",
       "4  jxvetM7uqms  0.000000\n",
       "5  Me82R7DKsMU  0.000000\n",
       "6  zF6-RBTAs60  0.000000\n",
       "7  DAKJagJqKtU  0.166667"
      ]
     },
     "execution_count": 256,
     "metadata": {},
     "output_type": "execute_result"
    }
   ],
   "source": [
    "# we can add this data to the node attribute csv to get better results in the visualisation\n",
    "LCC_df1.head(8)\n",
    "#LCC_df1.describe()"
   ]
  },
  {
   "cell_type": "code",
   "execution_count": 262,
   "id": "b0b87a96-2d13-48fb-a4a1-e322c86e5647",
   "metadata": {},
   "outputs": [],
   "source": [
    "# Calculate the in-degree for each node in the graph\n",
    "in_degrees = dict(g1.in_degree())\n",
    "lcc = LCC_df1['LCC']\n",
    "lcc = list(lcc)"
   ]
  },
  {
   "cell_type": "code",
   "execution_count": 275,
   "id": "4e7f1f9a-7b20-425b-be9e-dd9cae062ff9",
   "metadata": {},
   "outputs": [
    {
     "data": {
      "image/png": "[encoded data removed]",
      "text/plain": [
       "<Figure size 640x480 with 1 Axes>"
      ]
     },
     "metadata": {},
     "output_type": "display_data"
    }
   ],
   "source": [
    "# Convert unique values to integers\n",
    "unique_values = np.unique(lcc)\n",
    "unique_values_int = np.array(unique_values, dtype=np.int64)\n",
    "\n",
    "# Count the occurrences of each value\n",
    "value_counts = np.bincount(np.array(lcc, dtype=np.int64))\n",
    "\n",
    "# Plot the value distribution\n",
    "plt.scatter(unique_values, value_counts[unique_values_int])\n",
    "plt.xlabel('Data Value')\n",
    "plt.ylabel('Count')\n",
    "plt.title('Value Distribution')\n",
    "\n",
    "plt.show()"
   ]
  },
  {
   "cell_type": "markdown",
   "id": "4391dbec-9296-49ba-9cae-7dfd089bb9a7",
   "metadata": {
    "tags": []
   },
   "source": [
    "### <span style=\"color:teal\">Checking Isomorphism of two graphs</span>"
   ]
  },
  {
   "cell_type": "code",
   "execution_count": 183,
   "id": "fe22918d-55bb-49bc-8413-a1244d6db7bf",
   "metadata": {},
   "outputs": [
    {
     "name": "stdout",
     "output_type": "stream",
     "text": [
      "Isomporgic graphs? -  False\n",
      "Isomporgic graphs? -  False\n"
     ]
    }
   ],
   "source": [
    "test = nx.is_isomorphic(g1,g2)\n",
    "print(\"Isomporgic graphs? - \",test)\n",
    "\n",
    "test = nx.faster_could_be_isomorphic(g1,g2)\n",
    "print(\"Isomporgic graphs? - \",test)"
   ]
  },
  {
   "cell_type": "code",
   "execution_count": 179,
   "id": "925750c0-d561-44ce-9ea5-27874fc26d24",
   "metadata": {},
   "outputs": [],
   "source": [
    "def clique_calc(graph):\n",
    "    # Convert the directed graph to an undirected graph\n",
    "    undirected_graph = graph.to_undirected()\n",
    "\n",
    "    # Find all cliques in the undirected graph\n",
    "    cliques = list(nx.find_cliques(undirected_graph))\n",
    "\n",
    "    # Get the number of cliques\n",
    "    num_cliques = len(cliques)\n",
    "\n",
    "    print(\"Number of Cliques:\", num_cliques)"
   ]
  },
  {
   "cell_type": "code",
   "execution_count": 180,
   "id": "94a75b9b-7693-4347-a164-143fce4c6a70",
   "metadata": {},
   "outputs": [
    {
     "name": "stdout",
     "output_type": "stream",
     "text": [
      "Number of Cliques: 93297\n"
     ]
    }
   ],
   "source": [
    "clique_calc(g1) # output - 93,297"
   ]
  },
  {
   "cell_type": "code",
   "execution_count": 181,
   "id": "ed0a68e0-96e1-43d3-af67-522da9c9e1c4",
   "metadata": {},
   "outputs": [
    {
     "name": "stdout",
     "output_type": "stream",
     "text": [
      "Number of Cliques: 142788\n"
     ]
    }
   ],
   "source": [
    "clique_calc(g2) # output - 1,42,788"
   ]
  },
  {
   "cell_type": "markdown",
   "id": "3c620211-d774-41b1-8de5-b5298f63967d",
   "metadata": {
    "tags": []
   },
   "source": [
    "### <span style=\"color:teal\">Exporting the graphs</span>"
   ]
  },
  {
   "cell_type": "code",
   "execution_count": 56,
   "id": "48fae043-5d8e-43fb-a335-6e4b2c46ff9a",
   "metadata": {},
   "outputs": [],
   "source": [
    "export(g1,'g1.gexf.gz')"
   ]
  },
  {
   "cell_type": "code",
   "execution_count": 171,
   "id": "4573e607-4b69-41e0-8356-495bafb9e1c7",
   "metadata": {},
   "outputs": [],
   "source": [
    "export(g2,'g2.gexf.gz')"
   ]
  },
  {
   "cell_type": "code",
   "execution_count": null,
   "id": "f0d378fa-c190-41f3-bdd7-4d601b4eab80",
   "metadata": {},
   "outputs": [],
   "source": [
    "# the following code tries to summaries the graph?\n",
    "'''\n",
    "node_attributes = ('ratings',)\n",
    "G1 = nx.snap_aggregation(g1,node_attributes)\n",
    "'''"
   ]
  },
  {
   "cell_type": "code",
   "execution_count": 224,
   "id": "828d04ee-1fba-4243-a0d6-9930a407edba",
   "metadata": {},
   "outputs": [],
   "source": [
    "strong_components1 = list(nx.strongly_connected_components(g1))\n",
    "strong_components1.sort(key=len,reverse=True)\n",
    "strong_components2 = list(nx.strongly_connected_components(g2))\n",
    "strong_components2.sort(key=len,reverse=True)"
   ]
  },
  {
   "cell_type": "code",
   "execution_count": null,
   "id": "f81fde69-fc11-40d7-9bed-a035574bda9a",
   "metadata": {},
   "outputs": [],
   "source": [
    "# checking component isomorphism between the strongly connected components of the two network graphs\n",
    "for i in range(89797):\n",
    "    component_i = strong_components1[i]\n",
    "    for j in range(100000): \n",
    "        component_j = strong_components2[j]\n",
    "        #print(len(component_i),len(component_j))\n",
    "        #is_isomorphic = nx.is_isomorphic(g1.subgraph(component_i), g2.subgraph(component_j))\n",
    "        if len(component_i) == len(component_j) and len(component_i) > 7:\n",
    "            #print(\"same length found\")\n",
    "            #undirected_graph = directed_graph.to_undirected()\n",
    "            is_isomorphic = nx.is_isomorphic(g1.subgraph(component_i).to_undirected(), g2.subgraph(component_j).to_undirected())\n",
    "            couldBe_isomorphic = nx.faster_could_be_isomorphic(g1.subgraph(component_i).to_undirected(), g2.subgraph(component_j).to_undirected())\n",
    "            if is_isomorphic:\n",
    "                print(len(component_i),len(component_j))\n",
    "                print(is_isomorphic)"
   ]
  },
  {
   "cell_type": "markdown",
   "id": "aa6f0bcc-9fa4-4ab8-b2da-d9cfd546f81a",
   "metadata": {},
   "source": [
    "From the above code we can see that there are some strongly connected components which `could be` isomorphic. These components all have 8 nodes and that seems to be the limit till which the youtube algorithm keeps the videos is a ismoprphic state after that each component develops their own ido-syncracies we assume. \n",
    "\n",
    "If we converted the directed subgraphs into undirected graphs, then the number of isomorhpic components increase as well as the number of nodes in these components go up to 10 but that seems to be the limit there.\n",
    "\n",
    "We also can find some case of `sure` isomorphism with upto 8 nodes in the the component."
   ]
  },
  {
   "cell_type": "code",
   "execution_count": 294,
   "id": "cb12a57e-5a5a-4e0a-895b-78efb57ed7a1",
   "metadata": {},
   "outputs": [],
   "source": [
    "def subgraph_category(graph,attribute,values):\n",
    "   # Filter the subgraph based on a specific attribute value\n",
    "    attribute_key = attribute\n",
    "    attribute_values = values\n",
    "    subgraph_nodes = [n for n, data in graph.nodes(data=True) if attribute_key in data and data[attribute_key] in attribute_values]\n",
    "    subgraph = graph.subgraph(subgraph_nodes)\n",
    "\n",
    "\n",
    "    # Print the nodes in the subgraph\n",
    "    #print(\"Nodes in the subgraph:\")\n",
    "    #print(subgraph.nodes())\n",
    "    \n",
    "    # Print the length (number of nodes) in the subgraph\n",
    "    subgraph_length = len(subgraph)\n",
    "    print(\"Length of nodes in the subgraph:\", subgraph_length)\n",
    "    return subgraph"
   ]
  },
  {
   "cell_type": "code",
   "execution_count": 295,
   "id": "bac27f18-232b-401a-aa62-dac1f20ba6c4",
   "metadata": {},
   "outputs": [
    {
     "name": "stdout",
     "output_type": "stream",
     "text": [
      "Length of nodes in the subgraph: 46783\n",
      "Length of nodes in the subgraph: 46783\n"
     ]
    }
   ],
   "source": [
    "attri = 'category'\n",
    "value1 = ['Entertainment','Music']\n",
    "g1_enterainment = subgraph_category(g1,attri,value1)\n",
    "\n",
    "subgraph_length = len(g1_enterainment)\n",
    "print(\"Length of nodes in the subgraph:\", subgraph_length)"
   ]
  },
  {
   "cell_type": "code",
   "execution_count": 296,
   "id": "a8659cbd-24ea-4f37-a5b0-d1aa1ec453fb",
   "metadata": {},
   "outputs": [],
   "source": [
    "export(g1_enterainment,'g1_entertainment.gexf.gz')"
   ]
  },
  {
   "cell_type": "code",
   "execution_count": null,
   "id": "6e9cf909-499f-45a4-ad9e-591966aa12a4",
   "metadata": {},
   "outputs": [],
   "source": []
  }
 ],
 "metadata": {
  "kernelspec": {
   "display_name": "Python 3 (ipykernel)",
   "language": "python",
   "name": "python3"
  },
  "language_info": {
   "codemirror_mode": {
    "name": "ipython",
    "version": 3
   },
   "file_extension": ".py",
   "mimetype": "text/x-python",
   "name": "python",
   "nbconvert_exporter": "python",
   "pygments_lexer": "ipython3",
   "version": "3.10.8"
  }
 },
 "nbformat": 4,
 "nbformat_minor": 5
}
